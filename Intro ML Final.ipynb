{
 "cells": [
  {
   "cell_type": "markdown",
   "id": "cdcc6ba6",
   "metadata": {},
   "source": [
    "# Preprocessing"
   ]
  },
  {
   "cell_type": "code",
   "execution_count": null,
   "id": "a473b33f",
   "metadata": {},
   "outputs": [],
   "source": [
    "import numpy as np\n",
    "import matplotlib.pyplot as plt\n",
    "from sklearn.preprocessing import MinMaxScaler\n",
    "from sklearn.model_selection import train_test_split\n",
    "from sklearn.preprocessing import LabelEncoder\n",
    "import pandas as pd"
   ]
  },
  {
   "cell_type": "code",
   "execution_count": null,
   "id": "de10dafe",
   "metadata": {},
   "outputs": [],
   "source": [
    "data = pd.read_csv(r\"./SpotifyFeatures.csv\")"
   ]
  },
  {
   "cell_type": "code",
   "execution_count": null,
   "id": "84b3f377",
   "metadata": {},
   "outputs": [],
   "source": [
    "one_hot_mode = pd.get_dummies(data['mode'])\n",
    "data = pd.concat([data, one_hot_mode], axis=1)\n",
    "data.drop(['mode'], axis=1, inplace=True)\n",
    "# turning genres into numbers\n",
    "le = LabelEncoder()\n",
    "data['key'] = le.fit_transform(data['key'])\n",
    "data['genre'] = le.fit_transform(data['genre'])"
   ]
  },
  {
   "cell_type": "code",
   "execution_count": null,
   "id": "6cc89140",
   "metadata": {},
   "outputs": [],
   "source": [
    "outliers = pd.DataFrame(data.loc[:, ~data.columns.isin(['artist_name', 'track_name', 'track_id', 'popularity', 'Major', 'Minor', 'time_signature'])])\n",
    "outliers"
   ]
  },
  {
   "cell_type": "code",
   "execution_count": null,
   "id": "9b3ac6a1",
   "metadata": {},
   "outputs": [],
   "source": [
    "genres = outliers.genre.unique()"
   ]
  },
  {
   "cell_type": "code",
   "execution_count": null,
   "id": "d771de06",
   "metadata": {},
   "outputs": [],
   "source": [
    "new_pd = []\n",
    "for i in genres:\n",
    "    new_pd.append(outliers[outliers.genre == i])"
   ]
  },
  {
   "cell_type": "code",
   "execution_count": null,
   "id": "18791d7b",
   "metadata": {},
   "outputs": [],
   "source": [
    "for i in new_pd:\n",
    "    for j in range(11):\n",
    "        quantiles = i.iloc[:,j+1].quantile([.25, .5, .75])\n",
    "        QRI = quantiles[.75] - quantiles[.25]\n",
    "        lb = quantiles[.25] - 1.5 * QRI \n",
    "        ub = quantiles[.75] + 1.5 * QRI\n",
    "        i[(i.iloc[:, j+1]<ub) & (i.iloc[:,j+1]>lb)]\n"
   ]
  },
  {
   "cell_type": "code",
   "execution_count": null,
   "id": "4b833e39",
   "metadata": {},
   "outputs": [],
   "source": [
    "pd.concat(new_pd)"
   ]
  },
  {
   "cell_type": "code",
   "execution_count": null,
   "id": "c9bd0b25",
   "metadata": {},
   "outputs": [],
   "source": [
    "import matplotlib.pyplot as plt\n",
    "import seaborn as sns \n",
    "\n",
    "fig, ax = plt.subplots(figsize=(15,10))\n",
    "sns.heatmap(data.corr(), annot=True, cmap='YlGnBu', vmin=-1, vmax=1, center=0, ax=ax)\n",
    "plt.title('LINEAR CORRELATION MATRIX - CLASS_TRAIN')\n",
    "plt.show()"
   ]
  },
  {
   "cell_type": "code",
   "execution_count": null,
   "id": "a76a60dc",
   "metadata": {},
   "outputs": [],
   "source": [
    "import pandas as pd\n",
    "from keras.models import Sequential\n",
    "from keras.layers import Dense\n",
    "from keras.wrappers.scikit_learn import KerasClassifier\n",
    "from keras.utils import np_utils\n",
    "from sklearn.model_selection import cross_val_score\n",
    "from sklearn.model_selection import KFold\n",
    "from sklearn.preprocessing import LabelEncoder\n",
    "from sklearn.pipeline import Pipeline\n",
    "from sklearn.preprocessing import MinMaxScaler, StandardScaler, RobustScaler\n",
    "from sklearn.model_selection import train_test_split\n",
    "from sklearn.preprocessing import LabelEncoder\n",
    "import numpy as np"
   ]
  },
  {
   "cell_type": "markdown",
   "id": "9cfa2a90",
   "metadata": {},
   "source": [
    "# MLP Classifier"
   ]
  },
  {
   "cell_type": "code",
   "execution_count": null,
   "id": "8d223975",
   "metadata": {},
   "outputs": [],
   "source": [
    "from sklearn.neural_network import MLPClassifier\n",
    "from sklearn.metrics import accuracy_score\n",
    "\n",
    "\n",
    "nn = MLPClassifier(max_iter=100)\n",
    "parameter_space = {\n",
    "    'hidden_layer_sizes': [(100,100,100), (50,100, 50), (100,100,100), (50,100,100), (100,150,100), (100,)],\n",
    "    'activation': ['tanh', 'relu'],\n",
    "    'alpha': [.001, .05]\n",
    "}\n",
    "\n",
    "from sklearn.model_selection import GridSearchCV\n",
    "\n",
    "clf = GridSearchCV(nn, parameter_space, n_jobs=-1, cv = 3)\n",
    "clf.fit(x_train, y_train)\n",
    "print(clf.best_params_)"
   ]
  },
  {
   "cell_type": "code",
   "execution_count": null,
   "id": "9c25f05d",
   "metadata": {},
   "outputs": [],
   "source": [
    "nn.fit(x_train, y_train)"
   ]
  },
  {
   "cell_type": "code",
   "execution_count": null,
   "id": "f8138b84",
   "metadata": {},
   "outputs": [],
   "source": [
    "y2pred = nn.predict(x_test)"
   ]
  },
  {
   "cell_type": "code",
   "execution_count": null,
   "id": "899ee852",
   "metadata": {},
   "outputs": [],
   "source": [
    "from sklearn.metrics import accuracy_score\n",
    "\n",
    "accuracy_score(y2pred, y_test)"
   ]
  },
  {
   "cell_type": "code",
   "execution_count": null,
   "id": "a34009e6",
   "metadata": {},
   "outputs": [],
   "source": [
    "from sklearn.metrics import confusion_matrix, ConfusionMatrixDisplay\n",
    "\n",
    "cm = confusion_matrix(y_test.values.argmax(axis=1), y2pred.values.argmax(axis=1))\n"
   ]
  },
  {
   "cell_type": "code",
   "execution_count": null,
   "id": "c2a61c05",
   "metadata": {},
   "outputs": [],
   "source": [
    "labels = ['A Capella', 'Alternative', 'Anime', 'Blues', \"Children's Music\",\n",
    "       'Children’s Music', 'Classical', 'Comedy', 'Country', 'Dance',\n",
    "       'Electronic', 'Folk', 'Hip-Hop', 'Indie', 'Jazz', 'Movie', 'Opera',\n",
    "       'Pop', 'R&B', 'Rap', 'Reggae', 'Reggaeton', 'Rock', 'Ska', 'Soul',\n",
    "       'Soundtrack', 'World']\n",
    "import seaborn as sns\n",
    "sns.heatmap(cm, annot = False, cmap = \"Blues\", xticklabels = labels, yticklabels = labels)\n",
    "plt.xlabel('Predicted')\n",
    "plt.ylabel('True')\n",
    "plt.title(\"Confusion Matrix for Model B\")"
   ]
  },
  {
   "cell_type": "code",
   "execution_count": null,
   "id": "713defc2",
   "metadata": {},
   "outputs": [],
   "source": [
    "roc_auc = roc_auc_score(y_test, y2pred, multi_class = 'ovr')"
   ]
  },
  {
   "cell_type": "code",
   "execution_count": null,
   "id": "392cf632",
   "metadata": {},
   "outputs": [],
   "source": [
    "nn.loss_"
   ]
  },
  {
   "cell_type": "code",
   "execution_count": null,
   "id": "c2e60d4e",
   "metadata": {},
   "outputs": [],
   "source": [
    "from sklearn.metrics import classification_report\n",
    "\n",
    "print(classification_report(y2pred, y_test))"
   ]
  },
  {
   "cell_type": "markdown",
   "id": "b3186b3f",
   "metadata": {},
   "source": [
    "# Neural Network"
   ]
  },
  {
   "cell_type": "code",
   "execution_count": null,
   "id": "b6b35e8f",
   "metadata": {},
   "outputs": [],
   "source": [
    "def circle_of_fifths_encoding(keys):\n",
    "    key_encoding = {'C#': 7, 'F#': 2, 'C': 9, 'F': 4, 'G': 11, 'E': 6, \n",
    "                    'D#': 1, 'G#': 3, 'D': 8, 'A#': 0, 'A': 5, 'B': 10}\n",
    "    key_vectors = []\n",
    "    for key in keys:\n",
    "        circle_of_fifths_num = key_encoding[key]\n",
    "        key_vector = [np.cos(2*np.pi*circle_of_fifths_num/12), \n",
    "                      np.sin(2*np.pi*circle_of_fifths_num/12)]\n",
    "        key_vectors.append(key_vector)\n",
    "    key_vectors = np.array(key_vectors)\n",
    "    return key_vectors[:, 0], key_vectors[:, 1]"
   ]
  },
  {
   "cell_type": "code",
   "execution_count": null,
   "id": "0aa4f146",
   "metadata": {},
   "outputs": [],
   "source": [
    "data = pd.read_csv(r\"./SpotifyFeatures.csv\")\n",
    "data = data.drop_duplicates(subset=['track_id'], keep='last')\n",
    "features_to_drop = ['track_name', 'track_id', 'popularity', 'artist_name']\n",
    "data = data.drop(features_to_drop, axis=1)\n",
    "sin_key, cos_key =  circle_of_fifths_encoding(data['key'])\n",
    "data['sin_key'] = sin_key\n",
    "data['cos_key'] = cos_key\n",
    "data.drop(['key'], axis=1, inplace=True)\n",
    "le = LabelEncoder()\n",
    "data['mode'] = le.fit_transform(data['mode'])\n",
    "data['time_signature'] = le.fit_transform(data['time_signature'])\n",
    "y_one_hot = pd.get_dummies(data['genre'])\n",
    "x = data.drop(['genre'], axis=1)\n",
    "\n"
   ]
  },
  {
   "cell_type": "code",
   "execution_count": null,
   "id": "b51deab5",
   "metadata": {},
   "outputs": [],
   "source": [
    "x_train, x_test, y_train, y_test = train_test_split(x, y_one_hot, test_size=0.2, random_state=44)"
   ]
  },
  {
   "cell_type": "code",
   "execution_count": null,
   "id": "4fdb108e",
   "metadata": {},
   "outputs": [],
   "source": [
    "scaler = RobustScaler().fit(x_train)\n",
    "x_train = pd.DataFrame(scaler.transform(x_train), columns=x_train.columns)\n",
    "x_test = pd.DataFrame(scaler.transform(x_test), columns=x_test.columns)"
   ]
  },
  {
   "cell_type": "code",
   "execution_count": null,
   "id": "9a47f398",
   "metadata": {},
   "outputs": [],
   "source": [
    "model = Sequential()\n",
    "model.add(Dense(8, input_dim=14, activation='relu'))\n",
    "model.add(Dense(8, activation = 'tanh'))\n",
    "model.add(Dense(27, activation='softmax'))\n",
    "# Compile model\n",
    "model.compile(loss='categorical_crossentropy', optimizer='adam', metrics=['accuracy', 'Precision', 'AUC'])\n",
    "model.fit(x_train.values, y_train.values, epochs=100, batch_size=5, validation_data=(x_test.values, y_test.values))\n",
    "loss, accuracy, precision, auc = model.evaluate(x_test, y_test)\n",
    "model_stats = pd.DataFrame([loss, accuracy, precision, auc], index=['Loss', 'Accuracy', 'Precision', 'AUC'], columns=['Model Statistics'])\n"
   ]
  },
  {
   "cell_type": "code",
   "execution_count": null,
   "id": "849edfb1",
   "metadata": {},
   "outputs": [],
   "source": [
    "ypred = model.predict(x_test)"
   ]
  },
  {
   "cell_type": "code",
   "execution_count": null,
   "id": "c1eedcf8",
   "metadata": {},
   "outputs": [],
   "source": [
    "from sklearn.metrics import confusion_matrix, ConfusionMatrixDisplay\n",
    "\n",
    "cm = confusion_matrix(y_test.values.argmax(axis=1), ypred.values.argmax(axis=1))\n"
   ]
  },
  {
   "cell_type": "code",
   "execution_count": null,
   "id": "dea20dbd",
   "metadata": {},
   "outputs": [],
   "source": [
    "labels = ['A Capella', 'Alternative', 'Anime', 'Blues', \"Children's Music\",\n",
    "       'Children’s Music', 'Classical', 'Comedy', 'Country', 'Dance',\n",
    "       'Electronic', 'Folk', 'Hip-Hop', 'Indie', 'Jazz', 'Movie', 'Opera',\n",
    "       'Pop', 'R&B', 'Rap', 'Reggae', 'Reggaeton', 'Rock', 'Ska', 'Soul',\n",
    "       'Soundtrack', 'World']\n",
    "import seaborn as sns\n",
    "sns.heatmap(cm, annot = False, cmap = \"Blues\", xticklabels = labels, yticklabels = labels)\n",
    "plt.xlabel('Predicted')\n",
    "plt.ylabel('True')\n",
    "plt.show()"
   ]
  },
  {
   "cell_type": "code",
   "execution_count": null,
   "id": "60639473",
   "metadata": {},
   "outputs": [],
   "source": [
    "model_stats"
   ]
  }
 ],
 "metadata": {
  "kernelspec": {
   "display_name": "Python 3 (ipykernel)",
   "language": "python",
   "name": "python3"
  },
  "language_info": {
   "codemirror_mode": {
    "name": "ipython",
    "version": 3
   },
   "file_extension": ".py",
   "mimetype": "text/x-python",
   "name": "python",
   "nbconvert_exporter": "python",
   "pygments_lexer": "ipython3",
   "version": "3.9.13"
  }
 },
 "nbformat": 4,
 "nbformat_minor": 5
}
